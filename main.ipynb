{
  "cells": [
    {
      "cell_type": "markdown",
      "metadata": {
        "id": "view-in-github",
        "colab_type": "text"
      },
      "source": [
        "<a href=\"https://colab.research.google.com/github/gokulbytes/personalized-news-recommendation-engine/blob/main/main.ipynb\" target=\"_parent\"><img src=\"https://colab.research.google.com/assets/colab-badge.svg\" alt=\"Open In Colab\"/></a>"
      ]
    },
    {
      "cell_type": "code",
      "execution_count": 1,
      "metadata": {
        "id": "FHpQ1QBc6fS4"
      },
      "outputs": [],
      "source": [
        "# Requirements\n",
        "import pandas as pd"
      ]
    },
    {
      "cell_type": "markdown",
      "metadata": {
        "id": "U58BCbYA9UWH"
      },
      "source": [
        "# behaviors_df"
      ]
    },
    {
      "cell_type": "code",
      "execution_count": 2,
      "metadata": {
        "colab": {
          "base_uri": "https://localhost:8080/",
          "height": 206
        },
        "id": "i4hSGJerbbCH",
        "outputId": "07ebcb5e-9022-472c-cd8f-fa76d93f5235"
      },
      "outputs": [
        {
          "output_type": "execute_result",
          "data": {
            "text/plain": [
              "   UserID              TimeStamp  \\\n",
              "1  U13740  11/11/2019 9:05:58 AM   \n",
              "2  U91836  11/12/2019 6:11:30 PM   \n",
              "3  U73700  11/14/2019 7:01:48 AM   \n",
              "4  U34670  11/11/2019 5:28:05 AM   \n",
              "5   U8125  11/12/2019 4:11:21 PM   \n",
              "\n",
              "                                             History  \\\n",
              "1  N55189 N42782 N34694 N45794 N18445 N63302 N104...   \n",
              "2  N31739 N6072 N63045 N23979 N35656 N43353 N8129...   \n",
              "3  N10732 N25792 N7563 N21087 N41087 N5445 N60384...   \n",
              "4  N45729 N2203 N871 N53880 N41375 N43142 N33013 ...   \n",
              "5                        N10078 N56514 N14904 N33740   \n",
              "\n",
              "                                         Impressions  \n",
              "1                                  N55689-1 N35729-0  \n",
              "2  N20678-0 N39317-0 N58114-0 N20495-0 N42977-0 N...  \n",
              "3  N50014-0 N23877-0 N35389-0 N49712-0 N16844-0 N...  \n",
              "4                N35729-0 N33632-0 N49685-1 N27581-0  \n",
              "5  N39985-0 N36050-0 N16096-0 N8400-1 N22407-0 N6...  "
            ],
            "text/html": [
              "\n",
              "  <div id=\"df-0638952f-a726-4aad-bf73-690f13e8dcef\" class=\"colab-df-container\">\n",
              "    <div>\n",
              "<style scoped>\n",
              "    .dataframe tbody tr th:only-of-type {\n",
              "        vertical-align: middle;\n",
              "    }\n",
              "\n",
              "    .dataframe tbody tr th {\n",
              "        vertical-align: top;\n",
              "    }\n",
              "\n",
              "    .dataframe thead th {\n",
              "        text-align: right;\n",
              "    }\n",
              "</style>\n",
              "<table border=\"1\" class=\"dataframe\">\n",
              "  <thead>\n",
              "    <tr style=\"text-align: right;\">\n",
              "      <th></th>\n",
              "      <th>UserID</th>\n",
              "      <th>TimeStamp</th>\n",
              "      <th>History</th>\n",
              "      <th>Impressions</th>\n",
              "    </tr>\n",
              "  </thead>\n",
              "  <tbody>\n",
              "    <tr>\n",
              "      <th>1</th>\n",
              "      <td>U13740</td>\n",
              "      <td>11/11/2019 9:05:58 AM</td>\n",
              "      <td>N55189 N42782 N34694 N45794 N18445 N63302 N104...</td>\n",
              "      <td>N55689-1 N35729-0</td>\n",
              "    </tr>\n",
              "    <tr>\n",
              "      <th>2</th>\n",
              "      <td>U91836</td>\n",
              "      <td>11/12/2019 6:11:30 PM</td>\n",
              "      <td>N31739 N6072 N63045 N23979 N35656 N43353 N8129...</td>\n",
              "      <td>N20678-0 N39317-0 N58114-0 N20495-0 N42977-0 N...</td>\n",
              "    </tr>\n",
              "    <tr>\n",
              "      <th>3</th>\n",
              "      <td>U73700</td>\n",
              "      <td>11/14/2019 7:01:48 AM</td>\n",
              "      <td>N10732 N25792 N7563 N21087 N41087 N5445 N60384...</td>\n",
              "      <td>N50014-0 N23877-0 N35389-0 N49712-0 N16844-0 N...</td>\n",
              "    </tr>\n",
              "    <tr>\n",
              "      <th>4</th>\n",
              "      <td>U34670</td>\n",
              "      <td>11/11/2019 5:28:05 AM</td>\n",
              "      <td>N45729 N2203 N871 N53880 N41375 N43142 N33013 ...</td>\n",
              "      <td>N35729-0 N33632-0 N49685-1 N27581-0</td>\n",
              "    </tr>\n",
              "    <tr>\n",
              "      <th>5</th>\n",
              "      <td>U8125</td>\n",
              "      <td>11/12/2019 4:11:21 PM</td>\n",
              "      <td>N10078 N56514 N14904 N33740</td>\n",
              "      <td>N39985-0 N36050-0 N16096-0 N8400-1 N22407-0 N6...</td>\n",
              "    </tr>\n",
              "  </tbody>\n",
              "</table>\n",
              "</div>\n",
              "    <div class=\"colab-df-buttons\">\n",
              "\n",
              "  <div class=\"colab-df-container\">\n",
              "    <button class=\"colab-df-convert\" onclick=\"convertToInteractive('df-0638952f-a726-4aad-bf73-690f13e8dcef')\"\n",
              "            title=\"Convert this dataframe to an interactive table.\"\n",
              "            style=\"display:none;\">\n",
              "\n",
              "  <svg xmlns=\"http://www.w3.org/2000/svg\" height=\"24px\" viewBox=\"0 -960 960 960\">\n",
              "    <path d=\"M120-120v-720h720v720H120Zm60-500h600v-160H180v160Zm220 220h160v-160H400v160Zm0 220h160v-160H400v160ZM180-400h160v-160H180v160Zm440 0h160v-160H620v160ZM180-180h160v-160H180v160Zm440 0h160v-160H620v160Z\"/>\n",
              "  </svg>\n",
              "    </button>\n",
              "\n",
              "  <style>\n",
              "    .colab-df-container {\n",
              "      display:flex;\n",
              "      gap: 12px;\n",
              "    }\n",
              "\n",
              "    .colab-df-convert {\n",
              "      background-color: #E8F0FE;\n",
              "      border: none;\n",
              "      border-radius: 50%;\n",
              "      cursor: pointer;\n",
              "      display: none;\n",
              "      fill: #1967D2;\n",
              "      height: 32px;\n",
              "      padding: 0 0 0 0;\n",
              "      width: 32px;\n",
              "    }\n",
              "\n",
              "    .colab-df-convert:hover {\n",
              "      background-color: #E2EBFA;\n",
              "      box-shadow: 0px 1px 2px rgba(60, 64, 67, 0.3), 0px 1px 3px 1px rgba(60, 64, 67, 0.15);\n",
              "      fill: #174EA6;\n",
              "    }\n",
              "\n",
              "    .colab-df-buttons div {\n",
              "      margin-bottom: 4px;\n",
              "    }\n",
              "\n",
              "    [theme=dark] .colab-df-convert {\n",
              "      background-color: #3B4455;\n",
              "      fill: #D2E3FC;\n",
              "    }\n",
              "\n",
              "    [theme=dark] .colab-df-convert:hover {\n",
              "      background-color: #434B5C;\n",
              "      box-shadow: 0px 1px 3px 1px rgba(0, 0, 0, 0.15);\n",
              "      filter: drop-shadow(0px 1px 2px rgba(0, 0, 0, 0.3));\n",
              "      fill: #FFFFFF;\n",
              "    }\n",
              "  </style>\n",
              "\n",
              "    <script>\n",
              "      const buttonEl =\n",
              "        document.querySelector('#df-0638952f-a726-4aad-bf73-690f13e8dcef button.colab-df-convert');\n",
              "      buttonEl.style.display =\n",
              "        google.colab.kernel.accessAllowed ? 'block' : 'none';\n",
              "\n",
              "      async function convertToInteractive(key) {\n",
              "        const element = document.querySelector('#df-0638952f-a726-4aad-bf73-690f13e8dcef');\n",
              "        const dataTable =\n",
              "          await google.colab.kernel.invokeFunction('convertToInteractive',\n",
              "                                                    [key], {});\n",
              "        if (!dataTable) return;\n",
              "\n",
              "        const docLinkHtml = 'Like what you see? Visit the ' +\n",
              "          '<a target=\"_blank\" href=https://colab.research.google.com/notebooks/data_table.ipynb>data table notebook</a>'\n",
              "          + ' to learn more about interactive tables.';\n",
              "        element.innerHTML = '';\n",
              "        dataTable['output_type'] = 'display_data';\n",
              "        await google.colab.output.renderOutput(dataTable, element);\n",
              "        const docLink = document.createElement('div');\n",
              "        docLink.innerHTML = docLinkHtml;\n",
              "        element.appendChild(docLink);\n",
              "      }\n",
              "    </script>\n",
              "  </div>\n",
              "\n",
              "\n",
              "    <div id=\"df-28b5d88e-b045-406d-ab42-c4802f734980\">\n",
              "      <button class=\"colab-df-quickchart\" onclick=\"quickchart('df-28b5d88e-b045-406d-ab42-c4802f734980')\"\n",
              "                title=\"Suggest charts\"\n",
              "                style=\"display:none;\">\n",
              "\n",
              "<svg xmlns=\"http://www.w3.org/2000/svg\" height=\"24px\"viewBox=\"0 0 24 24\"\n",
              "     width=\"24px\">\n",
              "    <g>\n",
              "        <path d=\"M19 3H5c-1.1 0-2 .9-2 2v14c0 1.1.9 2 2 2h14c1.1 0 2-.9 2-2V5c0-1.1-.9-2-2-2zM9 17H7v-7h2v7zm4 0h-2V7h2v10zm4 0h-2v-4h2v4z\"/>\n",
              "    </g>\n",
              "</svg>\n",
              "      </button>\n",
              "\n",
              "<style>\n",
              "  .colab-df-quickchart {\n",
              "      --bg-color: #E8F0FE;\n",
              "      --fill-color: #1967D2;\n",
              "      --hover-bg-color: #E2EBFA;\n",
              "      --hover-fill-color: #174EA6;\n",
              "      --disabled-fill-color: #AAA;\n",
              "      --disabled-bg-color: #DDD;\n",
              "  }\n",
              "\n",
              "  [theme=dark] .colab-df-quickchart {\n",
              "      --bg-color: #3B4455;\n",
              "      --fill-color: #D2E3FC;\n",
              "      --hover-bg-color: #434B5C;\n",
              "      --hover-fill-color: #FFFFFF;\n",
              "      --disabled-bg-color: #3B4455;\n",
              "      --disabled-fill-color: #666;\n",
              "  }\n",
              "\n",
              "  .colab-df-quickchart {\n",
              "    background-color: var(--bg-color);\n",
              "    border: none;\n",
              "    border-radius: 50%;\n",
              "    cursor: pointer;\n",
              "    display: none;\n",
              "    fill: var(--fill-color);\n",
              "    height: 32px;\n",
              "    padding: 0;\n",
              "    width: 32px;\n",
              "  }\n",
              "\n",
              "  .colab-df-quickchart:hover {\n",
              "    background-color: var(--hover-bg-color);\n",
              "    box-shadow: 0 1px 2px rgba(60, 64, 67, 0.3), 0 1px 3px 1px rgba(60, 64, 67, 0.15);\n",
              "    fill: var(--button-hover-fill-color);\n",
              "  }\n",
              "\n",
              "  .colab-df-quickchart-complete:disabled,\n",
              "  .colab-df-quickchart-complete:disabled:hover {\n",
              "    background-color: var(--disabled-bg-color);\n",
              "    fill: var(--disabled-fill-color);\n",
              "    box-shadow: none;\n",
              "  }\n",
              "\n",
              "  .colab-df-spinner {\n",
              "    border: 2px solid var(--fill-color);\n",
              "    border-color: transparent;\n",
              "    border-bottom-color: var(--fill-color);\n",
              "    animation:\n",
              "      spin 1s steps(1) infinite;\n",
              "  }\n",
              "\n",
              "  @keyframes spin {\n",
              "    0% {\n",
              "      border-color: transparent;\n",
              "      border-bottom-color: var(--fill-color);\n",
              "      border-left-color: var(--fill-color);\n",
              "    }\n",
              "    20% {\n",
              "      border-color: transparent;\n",
              "      border-left-color: var(--fill-color);\n",
              "      border-top-color: var(--fill-color);\n",
              "    }\n",
              "    30% {\n",
              "      border-color: transparent;\n",
              "      border-left-color: var(--fill-color);\n",
              "      border-top-color: var(--fill-color);\n",
              "      border-right-color: var(--fill-color);\n",
              "    }\n",
              "    40% {\n",
              "      border-color: transparent;\n",
              "      border-right-color: var(--fill-color);\n",
              "      border-top-color: var(--fill-color);\n",
              "    }\n",
              "    60% {\n",
              "      border-color: transparent;\n",
              "      border-right-color: var(--fill-color);\n",
              "    }\n",
              "    80% {\n",
              "      border-color: transparent;\n",
              "      border-right-color: var(--fill-color);\n",
              "      border-bottom-color: var(--fill-color);\n",
              "    }\n",
              "    90% {\n",
              "      border-color: transparent;\n",
              "      border-bottom-color: var(--fill-color);\n",
              "    }\n",
              "  }\n",
              "</style>\n",
              "\n",
              "      <script>\n",
              "        async function quickchart(key) {\n",
              "          const quickchartButtonEl =\n",
              "            document.querySelector('#' + key + ' button');\n",
              "          quickchartButtonEl.disabled = true;  // To prevent multiple clicks.\n",
              "          quickchartButtonEl.classList.add('colab-df-spinner');\n",
              "          try {\n",
              "            const charts = await google.colab.kernel.invokeFunction(\n",
              "                'suggestCharts', [key], {});\n",
              "          } catch (error) {\n",
              "            console.error('Error during call to suggestCharts:', error);\n",
              "          }\n",
              "          quickchartButtonEl.classList.remove('colab-df-spinner');\n",
              "          quickchartButtonEl.classList.add('colab-df-quickchart-complete');\n",
              "        }\n",
              "        (() => {\n",
              "          let quickchartButtonEl =\n",
              "            document.querySelector('#df-28b5d88e-b045-406d-ab42-c4802f734980 button');\n",
              "          quickchartButtonEl.style.display =\n",
              "            google.colab.kernel.accessAllowed ? 'block' : 'none';\n",
              "        })();\n",
              "      </script>\n",
              "    </div>\n",
              "\n",
              "    </div>\n",
              "  </div>\n"
            ],
            "application/vnd.google.colaboratory.intrinsic+json": {
              "type": "dataframe",
              "variable_name": "behaviors_df"
            }
          },
          "metadata": {},
          "execution_count": 2
        }
      ],
      "source": [
        "# Load the dataset\n",
        "behaviors_df = pd.read_csv('/content/behaviors.tsv', sep='\\t', header=None, names=['UserID', 'TimeStamp', 'History', 'Impressions'])\n",
        "behaviors_df.head()"
      ]
    },
    {
      "cell_type": "code",
      "execution_count": 3,
      "metadata": {
        "colab": {
          "base_uri": "https://localhost:8080/"
        },
        "id": "ACxh7iqpbt4C",
        "outputId": "11fe2d09-ced1-4f71-dc09-7e26601bd030"
      },
      "outputs": [
        {
          "output_type": "stream",
          "name": "stdout",
          "text": [
            "<class 'pandas.core.frame.DataFrame'>\n",
            "Index: 156965 entries, 1 to 156965\n",
            "Data columns (total 4 columns):\n",
            " #   Column       Non-Null Count   Dtype \n",
            "---  ------       --------------   ----- \n",
            " 0   UserID       156965 non-null  object\n",
            " 1   TimeStamp    156965 non-null  object\n",
            " 2   History      153727 non-null  object\n",
            " 3   Impressions  156965 non-null  object\n",
            "dtypes: object(4)\n",
            "memory usage: 6.0+ MB\n"
          ]
        }
      ],
      "source": [
        "behaviors_df.info()"
      ]
    },
    {
      "cell_type": "markdown",
      "metadata": {
        "id": "BjcPoSgp6rCb"
      },
      "source": [
        "# news_df"
      ]
    },
    {
      "cell_type": "code",
      "execution_count": 4,
      "metadata": {
        "colab": {
          "base_uri": "https://localhost:8080/",
          "height": 570
        },
        "id": "_cF_nNSL-3bR",
        "outputId": "43ad748d-9eaa-481d-b559-ebfd672d2749"
      },
      "outputs": [
        {
          "output_type": "execute_result",
          "data": {
            "text/plain": [
              "   NewsID   Category      SubCategory  \\\n",
              "0  N55528  lifestyle  lifestyleroyals   \n",
              "1  N19639     health       weightloss   \n",
              "2  N61837       news        newsworld   \n",
              "3  N53526     health           voices   \n",
              "4  N38324     health          medical   \n",
              "\n",
              "                                               Title  \\\n",
              "0  The Brands Queen Elizabeth, Prince Charles, an...   \n",
              "1                      50 Worst Habits For Belly Fat   \n",
              "2  The Cost of Trump's Aid Freeze in the Trenches...   \n",
              "3  I Was An NBA Wife. Here's How It Affected My M...   \n",
              "4  How to Get Rid of Skin Tags, According to a De...   \n",
              "\n",
              "                                            Abstract  \\\n",
              "0  Shop the notebooks, jackets, and more that the...   \n",
              "1  These seemingly harmless habits are holding yo...   \n",
              "2  Lt. Ivan Molchanets peeked over a parapet of s...   \n",
              "3  I felt like I was a fraud, and being an NBA wi...   \n",
              "4  They seem harmless, but there's a very good re...   \n",
              "\n",
              "                                             URL  \\\n",
              "0  https://assets.msn.com/labs/mind/AAGH0ET.html   \n",
              "1  https://assets.msn.com/labs/mind/AAB19MK.html   \n",
              "2  https://assets.msn.com/labs/mind/AAJgNsz.html   \n",
              "3  https://assets.msn.com/labs/mind/AACk2N6.html   \n",
              "4  https://assets.msn.com/labs/mind/AAAKEkt.html   \n",
              "\n",
              "                                       TitleEntities  \\\n",
              "0  [{\"Label\": \"Prince Philip, Duke of Edinburgh\",...   \n",
              "1  [{\"Label\": \"Adipose tissue\", \"Type\": \"C\", \"Wik...   \n",
              "2                                                 []   \n",
              "3                                                 []   \n",
              "4  [{\"Label\": \"Skin tag\", \"Type\": \"C\", \"WikidataI...   \n",
              "\n",
              "                                    AbstractEntities  \n",
              "0                                                 []  \n",
              "1  [{\"Label\": \"Adipose tissue\", \"Type\": \"C\", \"Wik...  \n",
              "2  [{\"Label\": \"Ukraine\", \"Type\": \"G\", \"WikidataId...  \n",
              "3  [{\"Label\": \"National Basketball Association\", ...  \n",
              "4  [{\"Label\": \"Skin tag\", \"Type\": \"C\", \"WikidataI...  "
            ],
            "text/html": [
              "\n",
              "  <div id=\"df-28511c03-0d55-4213-b5b5-6887a092072e\" class=\"colab-df-container\">\n",
              "    <div>\n",
              "<style scoped>\n",
              "    .dataframe tbody tr th:only-of-type {\n",
              "        vertical-align: middle;\n",
              "    }\n",
              "\n",
              "    .dataframe tbody tr th {\n",
              "        vertical-align: top;\n",
              "    }\n",
              "\n",
              "    .dataframe thead th {\n",
              "        text-align: right;\n",
              "    }\n",
              "</style>\n",
              "<table border=\"1\" class=\"dataframe\">\n",
              "  <thead>\n",
              "    <tr style=\"text-align: right;\">\n",
              "      <th></th>\n",
              "      <th>NewsID</th>\n",
              "      <th>Category</th>\n",
              "      <th>SubCategory</th>\n",
              "      <th>Title</th>\n",
              "      <th>Abstract</th>\n",
              "      <th>URL</th>\n",
              "      <th>TitleEntities</th>\n",
              "      <th>AbstractEntities</th>\n",
              "    </tr>\n",
              "  </thead>\n",
              "  <tbody>\n",
              "    <tr>\n",
              "      <th>0</th>\n",
              "      <td>N55528</td>\n",
              "      <td>lifestyle</td>\n",
              "      <td>lifestyleroyals</td>\n",
              "      <td>The Brands Queen Elizabeth, Prince Charles, an...</td>\n",
              "      <td>Shop the notebooks, jackets, and more that the...</td>\n",
              "      <td>https://assets.msn.com/labs/mind/AAGH0ET.html</td>\n",
              "      <td>[{\"Label\": \"Prince Philip, Duke of Edinburgh\",...</td>\n",
              "      <td>[]</td>\n",
              "    </tr>\n",
              "    <tr>\n",
              "      <th>1</th>\n",
              "      <td>N19639</td>\n",
              "      <td>health</td>\n",
              "      <td>weightloss</td>\n",
              "      <td>50 Worst Habits For Belly Fat</td>\n",
              "      <td>These seemingly harmless habits are holding yo...</td>\n",
              "      <td>https://assets.msn.com/labs/mind/AAB19MK.html</td>\n",
              "      <td>[{\"Label\": \"Adipose tissue\", \"Type\": \"C\", \"Wik...</td>\n",
              "      <td>[{\"Label\": \"Adipose tissue\", \"Type\": \"C\", \"Wik...</td>\n",
              "    </tr>\n",
              "    <tr>\n",
              "      <th>2</th>\n",
              "      <td>N61837</td>\n",
              "      <td>news</td>\n",
              "      <td>newsworld</td>\n",
              "      <td>The Cost of Trump's Aid Freeze in the Trenches...</td>\n",
              "      <td>Lt. Ivan Molchanets peeked over a parapet of s...</td>\n",
              "      <td>https://assets.msn.com/labs/mind/AAJgNsz.html</td>\n",
              "      <td>[]</td>\n",
              "      <td>[{\"Label\": \"Ukraine\", \"Type\": \"G\", \"WikidataId...</td>\n",
              "    </tr>\n",
              "    <tr>\n",
              "      <th>3</th>\n",
              "      <td>N53526</td>\n",
              "      <td>health</td>\n",
              "      <td>voices</td>\n",
              "      <td>I Was An NBA Wife. Here's How It Affected My M...</td>\n",
              "      <td>I felt like I was a fraud, and being an NBA wi...</td>\n",
              "      <td>https://assets.msn.com/labs/mind/AACk2N6.html</td>\n",
              "      <td>[]</td>\n",
              "      <td>[{\"Label\": \"National Basketball Association\", ...</td>\n",
              "    </tr>\n",
              "    <tr>\n",
              "      <th>4</th>\n",
              "      <td>N38324</td>\n",
              "      <td>health</td>\n",
              "      <td>medical</td>\n",
              "      <td>How to Get Rid of Skin Tags, According to a De...</td>\n",
              "      <td>They seem harmless, but there's a very good re...</td>\n",
              "      <td>https://assets.msn.com/labs/mind/AAAKEkt.html</td>\n",
              "      <td>[{\"Label\": \"Skin tag\", \"Type\": \"C\", \"WikidataI...</td>\n",
              "      <td>[{\"Label\": \"Skin tag\", \"Type\": \"C\", \"WikidataI...</td>\n",
              "    </tr>\n",
              "  </tbody>\n",
              "</table>\n",
              "</div>\n",
              "    <div class=\"colab-df-buttons\">\n",
              "\n",
              "  <div class=\"colab-df-container\">\n",
              "    <button class=\"colab-df-convert\" onclick=\"convertToInteractive('df-28511c03-0d55-4213-b5b5-6887a092072e')\"\n",
              "            title=\"Convert this dataframe to an interactive table.\"\n",
              "            style=\"display:none;\">\n",
              "\n",
              "  <svg xmlns=\"http://www.w3.org/2000/svg\" height=\"24px\" viewBox=\"0 -960 960 960\">\n",
              "    <path d=\"M120-120v-720h720v720H120Zm60-500h600v-160H180v160Zm220 220h160v-160H400v160Zm0 220h160v-160H400v160ZM180-400h160v-160H180v160Zm440 0h160v-160H620v160ZM180-180h160v-160H180v160Zm440 0h160v-160H620v160Z\"/>\n",
              "  </svg>\n",
              "    </button>\n",
              "\n",
              "  <style>\n",
              "    .colab-df-container {\n",
              "      display:flex;\n",
              "      gap: 12px;\n",
              "    }\n",
              "\n",
              "    .colab-df-convert {\n",
              "      background-color: #E8F0FE;\n",
              "      border: none;\n",
              "      border-radius: 50%;\n",
              "      cursor: pointer;\n",
              "      display: none;\n",
              "      fill: #1967D2;\n",
              "      height: 32px;\n",
              "      padding: 0 0 0 0;\n",
              "      width: 32px;\n",
              "    }\n",
              "\n",
              "    .colab-df-convert:hover {\n",
              "      background-color: #E2EBFA;\n",
              "      box-shadow: 0px 1px 2px rgba(60, 64, 67, 0.3), 0px 1px 3px 1px rgba(60, 64, 67, 0.15);\n",
              "      fill: #174EA6;\n",
              "    }\n",
              "\n",
              "    .colab-df-buttons div {\n",
              "      margin-bottom: 4px;\n",
              "    }\n",
              "\n",
              "    [theme=dark] .colab-df-convert {\n",
              "      background-color: #3B4455;\n",
              "      fill: #D2E3FC;\n",
              "    }\n",
              "\n",
              "    [theme=dark] .colab-df-convert:hover {\n",
              "      background-color: #434B5C;\n",
              "      box-shadow: 0px 1px 3px 1px rgba(0, 0, 0, 0.15);\n",
              "      filter: drop-shadow(0px 1px 2px rgba(0, 0, 0, 0.3));\n",
              "      fill: #FFFFFF;\n",
              "    }\n",
              "  </style>\n",
              "\n",
              "    <script>\n",
              "      const buttonEl =\n",
              "        document.querySelector('#df-28511c03-0d55-4213-b5b5-6887a092072e button.colab-df-convert');\n",
              "      buttonEl.style.display =\n",
              "        google.colab.kernel.accessAllowed ? 'block' : 'none';\n",
              "\n",
              "      async function convertToInteractive(key) {\n",
              "        const element = document.querySelector('#df-28511c03-0d55-4213-b5b5-6887a092072e');\n",
              "        const dataTable =\n",
              "          await google.colab.kernel.invokeFunction('convertToInteractive',\n",
              "                                                    [key], {});\n",
              "        if (!dataTable) return;\n",
              "\n",
              "        const docLinkHtml = 'Like what you see? Visit the ' +\n",
              "          '<a target=\"_blank\" href=https://colab.research.google.com/notebooks/data_table.ipynb>data table notebook</a>'\n",
              "          + ' to learn more about interactive tables.';\n",
              "        element.innerHTML = '';\n",
              "        dataTable['output_type'] = 'display_data';\n",
              "        await google.colab.output.renderOutput(dataTable, element);\n",
              "        const docLink = document.createElement('div');\n",
              "        docLink.innerHTML = docLinkHtml;\n",
              "        element.appendChild(docLink);\n",
              "      }\n",
              "    </script>\n",
              "  </div>\n",
              "\n",
              "\n",
              "    <div id=\"df-33a6abb0-3a8c-4e19-a163-60bc0a0e5ada\">\n",
              "      <button class=\"colab-df-quickchart\" onclick=\"quickchart('df-33a6abb0-3a8c-4e19-a163-60bc0a0e5ada')\"\n",
              "                title=\"Suggest charts\"\n",
              "                style=\"display:none;\">\n",
              "\n",
              "<svg xmlns=\"http://www.w3.org/2000/svg\" height=\"24px\"viewBox=\"0 0 24 24\"\n",
              "     width=\"24px\">\n",
              "    <g>\n",
              "        <path d=\"M19 3H5c-1.1 0-2 .9-2 2v14c0 1.1.9 2 2 2h14c1.1 0 2-.9 2-2V5c0-1.1-.9-2-2-2zM9 17H7v-7h2v7zm4 0h-2V7h2v10zm4 0h-2v-4h2v4z\"/>\n",
              "    </g>\n",
              "</svg>\n",
              "      </button>\n",
              "\n",
              "<style>\n",
              "  .colab-df-quickchart {\n",
              "      --bg-color: #E8F0FE;\n",
              "      --fill-color: #1967D2;\n",
              "      --hover-bg-color: #E2EBFA;\n",
              "      --hover-fill-color: #174EA6;\n",
              "      --disabled-fill-color: #AAA;\n",
              "      --disabled-bg-color: #DDD;\n",
              "  }\n",
              "\n",
              "  [theme=dark] .colab-df-quickchart {\n",
              "      --bg-color: #3B4455;\n",
              "      --fill-color: #D2E3FC;\n",
              "      --hover-bg-color: #434B5C;\n",
              "      --hover-fill-color: #FFFFFF;\n",
              "      --disabled-bg-color: #3B4455;\n",
              "      --disabled-fill-color: #666;\n",
              "  }\n",
              "\n",
              "  .colab-df-quickchart {\n",
              "    background-color: var(--bg-color);\n",
              "    border: none;\n",
              "    border-radius: 50%;\n",
              "    cursor: pointer;\n",
              "    display: none;\n",
              "    fill: var(--fill-color);\n",
              "    height: 32px;\n",
              "    padding: 0;\n",
              "    width: 32px;\n",
              "  }\n",
              "\n",
              "  .colab-df-quickchart:hover {\n",
              "    background-color: var(--hover-bg-color);\n",
              "    box-shadow: 0 1px 2px rgba(60, 64, 67, 0.3), 0 1px 3px 1px rgba(60, 64, 67, 0.15);\n",
              "    fill: var(--button-hover-fill-color);\n",
              "  }\n",
              "\n",
              "  .colab-df-quickchart-complete:disabled,\n",
              "  .colab-df-quickchart-complete:disabled:hover {\n",
              "    background-color: var(--disabled-bg-color);\n",
              "    fill: var(--disabled-fill-color);\n",
              "    box-shadow: none;\n",
              "  }\n",
              "\n",
              "  .colab-df-spinner {\n",
              "    border: 2px solid var(--fill-color);\n",
              "    border-color: transparent;\n",
              "    border-bottom-color: var(--fill-color);\n",
              "    animation:\n",
              "      spin 1s steps(1) infinite;\n",
              "  }\n",
              "\n",
              "  @keyframes spin {\n",
              "    0% {\n",
              "      border-color: transparent;\n",
              "      border-bottom-color: var(--fill-color);\n",
              "      border-left-color: var(--fill-color);\n",
              "    }\n",
              "    20% {\n",
              "      border-color: transparent;\n",
              "      border-left-color: var(--fill-color);\n",
              "      border-top-color: var(--fill-color);\n",
              "    }\n",
              "    30% {\n",
              "      border-color: transparent;\n",
              "      border-left-color: var(--fill-color);\n",
              "      border-top-color: var(--fill-color);\n",
              "      border-right-color: var(--fill-color);\n",
              "    }\n",
              "    40% {\n",
              "      border-color: transparent;\n",
              "      border-right-color: var(--fill-color);\n",
              "      border-top-color: var(--fill-color);\n",
              "    }\n",
              "    60% {\n",
              "      border-color: transparent;\n",
              "      border-right-color: var(--fill-color);\n",
              "    }\n",
              "    80% {\n",
              "      border-color: transparent;\n",
              "      border-right-color: var(--fill-color);\n",
              "      border-bottom-color: var(--fill-color);\n",
              "    }\n",
              "    90% {\n",
              "      border-color: transparent;\n",
              "      border-bottom-color: var(--fill-color);\n",
              "    }\n",
              "  }\n",
              "</style>\n",
              "\n",
              "      <script>\n",
              "        async function quickchart(key) {\n",
              "          const quickchartButtonEl =\n",
              "            document.querySelector('#' + key + ' button');\n",
              "          quickchartButtonEl.disabled = true;  // To prevent multiple clicks.\n",
              "          quickchartButtonEl.classList.add('colab-df-spinner');\n",
              "          try {\n",
              "            const charts = await google.colab.kernel.invokeFunction(\n",
              "                'suggestCharts', [key], {});\n",
              "          } catch (error) {\n",
              "            console.error('Error during call to suggestCharts:', error);\n",
              "          }\n",
              "          quickchartButtonEl.classList.remove('colab-df-spinner');\n",
              "          quickchartButtonEl.classList.add('colab-df-quickchart-complete');\n",
              "        }\n",
              "        (() => {\n",
              "          let quickchartButtonEl =\n",
              "            document.querySelector('#df-33a6abb0-3a8c-4e19-a163-60bc0a0e5ada button');\n",
              "          quickchartButtonEl.style.display =\n",
              "            google.colab.kernel.accessAllowed ? 'block' : 'none';\n",
              "        })();\n",
              "      </script>\n",
              "    </div>\n",
              "\n",
              "    </div>\n",
              "  </div>\n"
            ],
            "application/vnd.google.colaboratory.intrinsic+json": {
              "type": "dataframe",
              "variable_name": "news_df",
              "summary": "{\n  \"name\": \"news_df\",\n  \"rows\": 51282,\n  \"fields\": [\n    {\n      \"column\": \"NewsID\",\n      \"properties\": {\n        \"dtype\": \"string\",\n        \"num_unique_values\": 51282,\n        \"samples\": [\n          \"N7433\",\n          \"N43326\",\n          \"N45745\"\n        ],\n        \"semantic_type\": \"\",\n        \"description\": \"\"\n      }\n    },\n    {\n      \"column\": \"Category\",\n      \"properties\": {\n        \"dtype\": \"category\",\n        \"num_unique_values\": 17,\n        \"samples\": [\n          \"lifestyle\",\n          \"health\",\n          \"entertainment\"\n        ],\n        \"semantic_type\": \"\",\n        \"description\": \"\"\n      }\n    },\n    {\n      \"column\": \"SubCategory\",\n      \"properties\": {\n        \"dtype\": \"category\",\n        \"num_unique_values\": 264,\n        \"samples\": [\n          \"musicnews\",\n          \"tunedin\",\n          \"finance-career-education\"\n        ],\n        \"semantic_type\": \"\",\n        \"description\": \"\"\n      }\n    },\n    {\n      \"column\": \"Title\",\n      \"properties\": {\n        \"dtype\": \"string\",\n        \"num_unique_values\": 50434,\n        \"samples\": [\n          \"Hundreds of thousands of people in California are downriver of a dam that 'could fail'\",\n          \"State Department finds no 'deliberate mishandling of classified information' related to Clinton email server\",\n          \"Over 13,000 Nationals fans attend Game 7 watch party at Nationals Park\"\n        ],\n        \"semantic_type\": \"\",\n        \"description\": \"\"\n      }\n    },\n    {\n      \"column\": \"Abstract\",\n      \"properties\": {\n        \"dtype\": \"string\",\n        \"num_unique_values\": 47309,\n        \"samples\": [\n          \"KFC recently announced that it would be adding bone-in chicken wings to its menu permanently.\",\n          \"A Greenville woman is accused of kidnapping a girl from Minnesota, bringing her to Greenville and sexually assaulting her, according to an FBI affidavit. The affidavit said authorities were notified on Sept. 8 that a girl, who is under 12 years old, was kidnapped from South St. Paul and had traveled to South Carolina between Sept. 6 and 8. Investigators said they got information that the child may be at 23-year-old Katrina Marie Aliff's...\",\n          \"This is only the fourth impeachment proceeding in our nation's history - and it could stretch into an election year. Former Democratic Congressman Steve Israel and former Hillary Clinton campaign adviser Adrienne Elrod join Chris Jansing to discuss how it could hurt - or help - certain 2020 candidates.\"\n        ],\n        \"semantic_type\": \"\",\n        \"description\": \"\"\n      }\n    },\n    {\n      \"column\": \"URL\",\n      \"properties\": {\n        \"dtype\": \"string\",\n        \"num_unique_values\": 51281,\n        \"samples\": [\n          \"https://assets.msn.com/labs/mind/AAJmWCa.html\",\n          \"https://assets.msn.com/labs/mind/AAIZ3GP.html\",\n          \"https://assets.msn.com/labs/mind/AAILU2e.html\"\n        ],\n        \"semantic_type\": \"\",\n        \"description\": \"\"\n      }\n    },\n    {\n      \"column\": \"TitleEntities\",\n      \"properties\": {\n        \"dtype\": \"string\",\n        \"num_unique_values\": 34472,\n        \"samples\": [\n          \"[{\\\"Label\\\": \\\"Chrissy Teigen\\\", \\\"Type\\\": \\\"P\\\", \\\"WikidataId\\\": \\\"Q5111202\\\", \\\"Confidence\\\": 1.0, \\\"OccurrenceOffsets\\\": [0], \\\"SurfaceForms\\\": [\\\"Chrissy Teigen\\\"]}, {\\\"Label\\\": \\\"John Legend\\\", \\\"Type\\\": \\\"P\\\", \\\"WikidataId\\\": \\\"Q44857\\\", \\\"Confidence\\\": 1.0, \\\"OccurrenceOffsets\\\": [19], \\\"SurfaceForms\\\": [\\\"John Legend\\\"]}, {\\\"Label\\\": \\\"Donald Trump\\\", \\\"Type\\\": \\\"P\\\", \\\"WikidataId\\\": \\\"Q22686\\\", \\\"Confidence\\\": 1.0, \\\"OccurrenceOffsets\\\": [57], \\\"SurfaceForms\\\": [\\\"Trump\\\"]}]\",\n          \"[{\\\"Label\\\": \\\"McDonald's\\\", \\\"Type\\\": \\\"O\\\", \\\"WikidataId\\\": \\\"Q38076\\\", \\\"Confidence\\\": 1.0, \\\"OccurrenceOffsets\\\": [22], \\\"SurfaceForms\\\": [\\\"McDonald's\\\"]}]\",\n          \"[{\\\"Label\\\": \\\"Dan Quinn (American football)\\\", \\\"Type\\\": \\\"P\\\", \\\"WikidataId\\\": \\\"Q5214234\\\", \\\"Confidence\\\": 0.992, \\\"OccurrenceOffsets\\\": [38], \\\"SurfaceForms\\\": [\\\"Dan Quinn\\\"]}]\"\n        ],\n        \"semantic_type\": \"\",\n        \"description\": \"\"\n      }\n    },\n    {\n      \"column\": \"AbstractEntities\",\n      \"properties\": {\n        \"dtype\": \"string\",\n        \"num_unique_values\": 36277,\n        \"samples\": [\n          \"[{\\\"Label\\\": \\\"Santa Anita Park\\\", \\\"Type\\\": \\\"F\\\", \\\"WikidataId\\\": \\\"Q1126370\\\", \\\"Confidence\\\": 1.0, \\\"OccurrenceOffsets\\\": [10], \\\"SurfaceForms\\\": [\\\"Santa Anita Park\\\"]}]\",\n          \"[{\\\"Label\\\": \\\"Lexington, Kentucky\\\", \\\"Type\\\": \\\"G\\\", \\\"WikidataId\\\": \\\"Q49241\\\", \\\"Confidence\\\": 1.0, \\\"OccurrenceOffsets\\\": [0], \\\"SurfaceForms\\\": [\\\"LEXINGTON\\\"]}, {\\\"Label\\\": \\\"Immanuel Quickley\\\", \\\"Type\\\": \\\"N\\\", \\\"WikidataId\\\": \\\"Q55433150\\\", \\\"Confidence\\\": 1.0, \\\"OccurrenceOffsets\\\": [27, 300], \\\"SurfaceForms\\\": [\\\"Immanuel Quickley\\\", \\\"Quickley\\\"]}, {\\\"Label\\\": \\\"AP Poll\\\", \\\"Type\\\": \\\"U\\\", \\\"WikidataId\\\": \\\"Q4653492\\\", \\\"Confidence\\\": 1.0, \\\"OccurrenceOffsets\\\": [140], \\\"SurfaceForms\\\": [\\\"Top 25\\\"]}, {\\\"Label\\\": \\\"Associated Press\\\", \\\"Type\\\": \\\"O\\\", \\\"WikidataId\\\": \\\"Q40469\\\", \\\"Confidence\\\": 0.991, \\\"OccurrenceOffsets\\\": [119], \\\"SurfaceForms\\\": [\\\"The Associated Press\\\"]}]\",\n          \"[{\\\"Label\\\": \\\"Hennepin County Medical Center\\\", \\\"Type\\\": \\\"F\\\", \\\"WikidataId\\\": \\\"Q5714832\\\", \\\"Confidence\\\": 1.0, \\\"OccurrenceOffsets\\\": [248], \\\"SurfaceForms\\\": [\\\"Hennepin Healthcare\\\"]}, {\\\"Label\\\": \\\"Medicaid\\\", \\\"Type\\\": \\\"U\\\", \\\"WikidataId\\\": \\\"Q1141363\\\", \\\"Confidence\\\": 1.0, \\\"OccurrenceOffsets\\\": [212], \\\"SurfaceForms\\\": [\\\"Medicaid\\\"]}, {\\\"Label\\\": \\\"Presidency of Donald Trump\\\", \\\"Type\\\": \\\"U\\\", \\\"WikidataId\\\": \\\"Q27809653\\\", \\\"Confidence\\\": 0.976, \\\"OccurrenceOffsets\\\": [129], \\\"SurfaceForms\\\": [\\\"Trump administration\\\"]}]\"\n        ],\n        \"semantic_type\": \"\",\n        \"description\": \"\"\n      }\n    }\n  ]\n}"
            }
          },
          "metadata": {},
          "execution_count": 4
        }
      ],
      "source": [
        "# Load the dataset\n",
        "news_df = pd.read_csv('/content/news.tsv', sep='\\t', header=None, names=['NewsID', 'Category', 'SubCategory', 'Title', 'Abstract', 'URL','TitleEntities','AbstractEntities'])\n",
        "news_df.head()"
      ]
    },
    {
      "cell_type": "code",
      "execution_count": 5,
      "metadata": {
        "colab": {
          "base_uri": "https://localhost:8080/"
        },
        "id": "FcD-5Trt-7xr",
        "outputId": "1a95d3a0-5ae2-45af-8da7-ee128de0aecf"
      },
      "outputs": [
        {
          "output_type": "stream",
          "name": "stdout",
          "text": [
            "<class 'pandas.core.frame.DataFrame'>\n",
            "RangeIndex: 51282 entries, 0 to 51281\n",
            "Data columns (total 8 columns):\n",
            " #   Column            Non-Null Count  Dtype \n",
            "---  ------            --------------  ----- \n",
            " 0   NewsID            51282 non-null  object\n",
            " 1   Category          51282 non-null  object\n",
            " 2   SubCategory       51282 non-null  object\n",
            " 3   Title             51282 non-null  object\n",
            " 4   Abstract          48616 non-null  object\n",
            " 5   URL               51282 non-null  object\n",
            " 6   TitleEntities     51279 non-null  object\n",
            " 7   AbstractEntities  51278 non-null  object\n",
            "dtypes: object(8)\n",
            "memory usage: 3.1+ MB\n"
          ]
        }
      ],
      "source": [
        "news_df.info()"
      ]
    },
    {
      "cell_type": "code",
      "execution_count": 6,
      "metadata": {
        "id": "_7wSgGmwQztG"
      },
      "outputs": [],
      "source": [
        "# Remove duplicate rows based on all columns and reset the index\n",
        "news_df = news_df.drop_duplicates().reset_index(drop=True)"
      ]
    },
    {
      "cell_type": "markdown",
      "metadata": {
        "id": "Ji7yCw7v6xLj"
      },
      "source": [
        "# Data Transformation"
      ]
    },
    {
      "cell_type": "markdown",
      "metadata": {
        "id": "_LOGG6-f6zt4"
      },
      "source": [
        "## user_impressions_df"
      ]
    },
    {
      "cell_type": "code",
      "execution_count": 7,
      "metadata": {
        "id": "4AnGXEFDbWqH"
      },
      "outputs": [],
      "source": [
        "# Select UserID and Impressions columns\n",
        "user_impressions_df = behaviors_df[['UserID', 'Impressions']].copy()"
      ]
    },
    {
      "cell_type": "code",
      "execution_count": 8,
      "metadata": {
        "id": "WrDchgNpcgC-"
      },
      "outputs": [],
      "source": [
        "# Remove duplicate rows and reset the index\n",
        "user_impressions_df = user_impressions_df.drop_duplicates().reset_index(drop=True)"
      ]
    },
    {
      "cell_type": "code",
      "execution_count": 9,
      "metadata": {
        "id": "7jowe9jqcjgD"
      },
      "outputs": [],
      "source": [
        "# Split the Impressions string into a list of strings\n",
        "user_impressions_df['Impressions'] = user_impressions_df['Impressions'].str.split()"
      ]
    },
    {
      "cell_type": "code",
      "execution_count": 10,
      "metadata": {
        "id": "NZO4KDUHcmMx"
      },
      "outputs": [],
      "source": [
        "# Extract NewsIDs where the impression ended with '-1' (clicked)\n",
        "user_impressions_df['Clicked'] = user_impressions_df['Impressions'].apply(lambda x: [i.split('-')[0] for i in x if i.endswith('-1')])"
      ]
    },
    {
      "cell_type": "code",
      "execution_count": 11,
      "metadata": {
        "id": "nNTyV1X7djA-"
      },
      "outputs": [],
      "source": [
        "# Drop the original Impressions column as it's no longer needed\n",
        "user_impressions_df.drop(columns = ['Impressions'], inplace=True)"
      ]
    },
    {
      "cell_type": "code",
      "execution_count": 12,
      "metadata": {
        "id": "Xz87Zt7T-6xp"
      },
      "outputs": [],
      "source": [
        "# Rename the 'Clicked' column to 'NewsID' for clarity\n",
        "user_impressions_df = user_impressions_df.rename(columns={'Clicked' : 'NewsID'})"
      ]
    },
    {
      "cell_type": "markdown",
      "metadata": {
        "id": "FemwbmuS644X"
      },
      "source": [
        "### user_item_matrix"
      ]
    },
    {
      "cell_type": "code",
      "execution_count": 13,
      "metadata": {
        "id": "DZe5b69bdqbt"
      },
      "outputs": [],
      "source": [
        "# Explode the NewsID column so each NewsID in the list gets its own row\n",
        "user_impressions_df_exploded = user_impressions_df.explode('NewsID').reset_index(drop=True)"
      ]
    },
    {
      "cell_type": "code",
      "execution_count": 14,
      "metadata": {
        "id": "-B5VBVe5dtdq"
      },
      "outputs": [],
      "source": [
        "# Remove duplicate rows and reset the index\n",
        "user_impressions_df_exploded = user_impressions_df_exploded.drop_duplicates().reset_index(drop=True)"
      ]
    },
    {
      "cell_type": "code",
      "execution_count": 15,
      "metadata": {
        "id": "A7ow49Wi7K9B"
      },
      "outputs": [],
      "source": [
        "# Create the user-item matrix using pivot_table, assigning a value of 1 for clicked items and 0 for unclicked items.\n",
        "user_item_matrix = user_impressions_df_exploded.assign(clicked=1).pivot_table(index='UserID', columns='NewsID', values='clicked', fill_value=0)"
      ]
    },
    {
      "cell_type": "markdown",
      "metadata": {
        "id": "nA2v_0wsBwX3"
      },
      "source": [
        "## news_df"
      ]
    },
    {
      "cell_type": "code",
      "execution_count": 16,
      "metadata": {
        "id": "aMugwCekQcon"
      },
      "outputs": [],
      "source": [
        "# Combine 'Title' and 'Abstract' columns into a new 'Content' column\n",
        "news_df['Content'] = news_df['Title'] + ' ' + news_df['Abstract'].fillna('')"
      ]
    },
    {
      "cell_type": "code",
      "execution_count": 17,
      "metadata": {
        "id": "2X_Ll6AdR6YI"
      },
      "outputs": [],
      "source": [
        "# Drop the original 'Abstract', 'TitleEntities', and 'AbstractEntities' columns\n",
        "news_df = news_df.drop(columns=['Abstract', 'TitleEntities', 'AbstractEntities'])"
      ]
    },
    {
      "cell_type": "markdown",
      "metadata": {
        "id": "xk84sOHOF_vG"
      },
      "source": [
        "# Save Files"
      ]
    },
    {
      "cell_type": "code",
      "execution_count": 18,
      "metadata": {
        "id": "HvdrB2rbBcil"
      },
      "outputs": [],
      "source": [
        "# Export user_item_matrix to a CSV file\n",
        "user_item_matrix.to_csv('user_item_matrix.csv')"
      ]
    },
    {
      "cell_type": "code",
      "execution_count": 19,
      "metadata": {
        "id": "CqD3F0IiDv4p"
      },
      "outputs": [],
      "source": [
        "# Export news_df to a CSV file\n",
        "news_df.to_csv('news_df.csv', index=False)"
      ]
    },
    {
      "cell_type": "code",
      "execution_count": 19,
      "metadata": {
        "id": "EcCfGTAeFEaf"
      },
      "outputs": [],
      "source": []
    }
  ],
  "metadata": {
    "colab": {
      "provenance": [],
      "authorship_tag": "ABX9TyNunEvvds5aNOh+MSqK8YN9",
      "include_colab_link": true
    },
    "kernelspec": {
      "display_name": "Python 3",
      "name": "python3"
    },
    "language_info": {
      "name": "python"
    }
  },
  "nbformat": 4,
  "nbformat_minor": 0
}